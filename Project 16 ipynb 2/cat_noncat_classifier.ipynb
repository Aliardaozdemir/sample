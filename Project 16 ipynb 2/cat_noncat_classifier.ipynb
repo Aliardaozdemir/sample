{
 "cells": [
  {
   "cell_type": "markdown",
   "metadata": {},
   "source": [
    "## Packages"
   ]
  },
  {
   "cell_type": "code",
   "execution_count": 1,
   "metadata": {},
   "outputs": [],
   "source": [
    "import time\n",
    "import numpy as np\n",
    "import h5py\n",
    "import matplotlib.pyplot as plt\n",
    "import scipy\n",
    "from PIL import Image\n",
    "from scipy import ndimage\n",
    "\n",
    "%matplotlib inline\n",
    "plt.rcParams['figure.figsize'] = (5.0, 4.0) # set default size of plots\n",
    "plt.rcParams['image.interpolation'] = 'nearest'\n",
    "plt.rcParams['image.cmap'] = 'gray'\n",
    "\n",
    "%load_ext autoreload\n",
    "%autoreload 2\n",
    "\n",
    "np.random.seed(1)"
   ]
  },
  {
   "cell_type": "code",
   "execution_count": 2,
   "metadata": {},
   "outputs": [],
   "source": [
    "def load_data(path):\n",
    "    train_dataset = h5py.File(path+'/train_catvnoncat.h5', \"r\")\n",
    "    train_set_x_orig = np.array(train_dataset[\"train_set_x\"][:]) # your train set features\n",
    "    train_set_y_orig = np.array(train_dataset[\"train_set_y\"][:]) # your train set labels\n",
    "\n",
    "    test_dataset = h5py.File(path+'/test_catvnoncat.h5', \"r\")\n",
    "    test_set_x_orig = np.array(test_dataset[\"test_set_x\"][:]) # your test set features\n",
    "    test_set_y_orig = np.array(test_dataset[\"test_set_y\"][:]) # your test set labels\n",
    "\n",
    "    classes = np.array(test_dataset[\"list_classes\"][:]) # the list of classes\n",
    "    \n",
    "    train_set_y_orig = train_set_y_orig.reshape((1, train_set_y_orig.shape[0]))\n",
    "    test_set_y_orig = test_set_y_orig.reshape((1, test_set_y_orig.shape[0]))\n",
    "    \n",
    "    return train_set_x_orig, train_set_y_orig, test_set_x_orig, test_set_y_orig, classes"
   ]
  },
  {
   "cell_type": "markdown",
   "metadata": {},
   "source": [
    "## Dataset\n",
    "\n",
    "To be familiar with the dataset, load the data by running the cell below."
   ]
  },
  {
   "cell_type": "code",
   "execution_count": 3,
   "metadata": {
    "scrolled": true
   },
   "outputs": [],
   "source": [
    "train_x_orig, train_y, test_x_orig, test_y, classes = load_data('D:/Ali Arda/dataset') # you need to change your dataset path"
   ]
  },
  {
   "cell_type": "markdown",
   "metadata": {},
   "source": [
    "The following code will show you an image in the dataset. Feel free to change the index and re-run the cell multiple times to see other images. "
   ]
  },
  {
   "cell_type": "code",
   "execution_count": 4,
   "metadata": {},
   "outputs": [
    {
     "name": "stdout",
     "output_type": "stream",
     "text": [
      "y = 0. It's a non-cat picture.\n"
     ]
    },
    {
     "data": {
      "image/png": "[encoded data removed]",
      "text/plain": [
       "<Figure size 432x288 with 1 Axes>"
      ]
     },
     "metadata": {
      "needs_background": "light"
     },
     "output_type": "display_data"
    }
   ],
   "source": [
    "# Example of a picture\n",
    "index = 10\n",
    "plt.imshow(train_x_orig[index])\n",
    "print (\"y = \" + str(train_y[0,index]) + \". It's a \" + classes[train_y[0,index]].decode(\"utf-8\") +  \" picture.\")"
   ]
  },
  {
   "cell_type": "code",
   "execution_count": 5,
   "metadata": {},
   "outputs": [
    {
     "name": "stdout",
     "output_type": "stream",
     "text": [
      "Number of training examples: 209\n",
      "Number of testing examples: 50\n",
      "Each image is of size: (64, 64, 3)\n",
      "train_x_orig shape: (209, 64, 64, 3)\n",
      "train_y shape: (1, 209)\n",
      "test_x_orig shape: (50, 64, 64, 3)\n",
      "test_y shape: (1, 50)\n"
     ]
    }
   ],
   "source": [
    "# Explore your dataset \n",
    "m_train = train_x_orig.shape[0]\n",
    "num_px = train_x_orig.shape[1]\n",
    "m_test = test_x_orig.shape[0]\n",
    "\n",
    "print (\"Number of training examples: \" + str(m_train))\n",
    "print (\"Number of testing examples: \" + str(m_test))\n",
    "print (\"Each image is of size: (\" + str(num_px) + \", \" + str(num_px) + \", 3)\")\n",
    "print (\"train_x_orig shape: \" + str(train_x_orig.shape))\n",
    "print (\"train_y shape: \" + str(train_y.shape))\n",
    "print (\"test_x_orig shape: \" + str(test_x_orig.shape))\n",
    "print (\"test_y shape: \" + str(test_y.shape))"
   ]
  },
  {
   "cell_type": "code",
   "execution_count": 6,
   "metadata": {},
   "outputs": [
    {
     "name": "stdout",
     "output_type": "stream",
     "text": [
      "train_x's shape: (12288, 209)\n",
      "test_x's shape: (12288, 50)\n"
     ]
    }
   ],
   "source": [
    "# Reshape the training and test examples \n",
    "train_x_flatten = train_x_orig.reshape(train_x_orig.shape[0], -1).T   # The \"-1\" makes reshape flatten the remaining dimensions\n",
    "test_x_flatten = test_x_orig.reshape(test_x_orig.shape[0], -1).T\n",
    "\n",
    "# Standardize data to have feature values between 0 and 1.\n",
    "train_x = train_x_flatten/255.\n",
    "test_x = test_x_flatten/255.\n",
    "\n",
    "print (\"train_x's shape: \" + str(train_x.shape))\n",
    "print (\"test_x's shape: \" + str(test_x.shape))"
   ]
  },
  {
   "cell_type": "code",
   "execution_count": 7,
   "metadata": {},
   "outputs": [],
   "source": [
    "### CONSTANTS DEFINING THE MODEL ####\n",
    "n_x = 12288     # num_px * num_px * 3\n",
    "n_h = 7\n",
    "n_y = 1\n",
    "layers_dims = (n_x, n_h, n_y)"
   ]
  },
  {
   "cell_type": "code",
   "execution_count": 8,
   "metadata": {},
   "outputs": [],
   "source": [
    "def initialize_parameters_deep(n_x,n_h,n_y):\n",
    "    \"\"\"\n",
    "    Arguments:\n",
    "    layer_dims -- python array (list) containing the dimensions of each layer in our network\n",
    "    \n",
    "    Returns:\n",
    "    parameters -- python dictionary containing your parameters \"W1\", \"b1\",\"W2\", \"b2\":\n",
    "    \"\"\"\n",
    "    \n",
    "    np.random.seed(3)\n",
    "    parameters = {}\n",
    "    layer_dims = (n_x,n_h,n_y)\n",
    "    L = len(layer_dims)            # number of layers in the network\n",
    "\n",
    "    parameters[\"W1\"] = np.random.normal(0.0,pow(n_h,-0.5),(n_h,n_x))\n",
    "    parameters[\"b1\"] = np.zeros((n_h,1))\n",
    "    parameters[\"W2\"] = np.random.normal(0.0,pow(n_y,-0.5),(n_y,n_h))\n",
    "    parameters[\"b2\"] = np.zeros((n_y,1))\n",
    "    \n",
    "    return parameters"
   ]
  },
  {
   "cell_type": "code",
   "execution_count": 9,
   "metadata": {},
   "outputs": [],
   "source": [
    "def linear_activation_forward(X,parameters):\n",
    "    \"\"\"\n",
    "    Implement the forward propagation\n",
    "\n",
    "    Arguments:\n",
    "    X -- input data:\n",
    "    parameters -- python dictionary containing your parameters \"W1\", \"b1\",\"W2\", \"b2\":\n",
    "\n",
    "    Returns:\n",
    "    AL -- output of the forward propogation\n",
    "    \"\"\"\n",
    "     \n",
    "    Z1 = np.dot(parameters[\"W1\"],X) + parameters[\"b1\"]\n",
    "    A = np.tanh(Z1)\n",
    "    Z2 = np.dot(parameters[\"W2\"],A) + parameters[\"b2\"]\n",
    "    AL = (1)/(1+np.exp(-Z2))\n",
    "    \n",
    "    \n",
    "    return AL "
   ]
  },
  {
   "cell_type": "code",
   "execution_count": 10,
   "metadata": {},
   "outputs": [],
   "source": [
    "def compute_cost(AL, Y):\n",
    "    \"\"\"\n",
    "    Implement the cost function defined by equation (7).\n",
    "\n",
    "    Arguments:\n",
    "    AL -- probability vector corresponding to your label predictions, shape (1, number of examples)\n",
    "    Y -- true \"label\" vector (for example: containing 0 if non-cat, 1 if cat), shape (1, number of examples)\n",
    "\n",
    "    Returns:\n",
    "    cost -- cost\n",
    "    \"\"\"\n",
    "    m = Y.shape[1]\n",
    "    cost = -np.mean(Y * np.log(AL) + (1 - Y) * np.log(1 - AL))\n",
    "    cost = np.squeeze(cost)\n",
    "    \n",
    "    return cost"
   ]
  },
  {
   "cell_type": "code",
   "execution_count": 11,
   "metadata": {},
   "outputs": [],
   "source": [
    "def linear_activation_backward(X,cost,parameters):\n",
    "    \"\"\"\n",
    "    Implement the backward propagation\n",
    "    \n",
    "    Arguments:\n",
    "    X -- input data\n",
    "    cost -- cost\n",
    "    \n",
    "    Returns:\n",
    "    grads --  A dictionary with the gradients\n",
    "             grads[\"dW1\"]\n",
    "             grads[\"db1\"]\n",
    "             grads[\"dW2\"]\n",
    "             grads[\"db2\"]\n",
    "    \"\"\"\n",
    "\n",
    "    \n",
    "    grads = {}\n",
    "    m = X.shape[1]\n",
    "    dZ1 = np.dot(np.transpose(parameters['W2']), cost) * (1-np.power(np.tanh(np.dot(parameters[\"W1\"],X)+parameters[\"b1\"]), 2))\n",
    "    grads[\"dW1\"] = ((np.sum(dZ1))/m).reshape(1,1)\n",
    "    grads[\"db1\"] = (1 / m) * np.sum(dZ1, axis=1, keepdims=True)\n",
    "    grads[\"dW2\"] = (1 / m) * np.dot(cost, np.transpose(np.tanh(np.dot(parameters[\"W1\"],X))+parameters[\"b1\"]))\n",
    "    grads[\"db2\"] = ((np.sum(cost))/m).reshape(1,1)\n",
    "    \n",
    "\n",
    "    \n",
    "    return grads"
   ]
  },
  {
   "cell_type": "code",
   "execution_count": 12,
   "metadata": {},
   "outputs": [],
   "source": [
    "def update_parameters(parameters, grads, learning_rate):\n",
    "    \"\"\"\n",
    "    Update parameters using gradient descent\n",
    "    \n",
    "    Arguments:\n",
    "    parameters -- python dictionary containing your parameters \n",
    "    grads -- python dictionary containing your gradients, output of L_model_backward\n",
    "    \n",
    "    Returns:\n",
    "    parameters -- python dictionary containing your updated parameters \n",
    "             parameters[\"W1\"]\n",
    "             parameters[\"b1\"]\n",
    "             parameters[\"W2\"]\n",
    "             parameters[\"b2\"]\n",
    "    \"\"\"\n",
    "    \n",
    "    parameters[\"W1\"] = parameters[\"W1\"] - learning_rate*grads[\"dW1\"]\n",
    "    parameters[\"W2\"] = parameters[\"W2\"] - learning_rate*grads[\"dW2\"]\n",
    "    parameters[\"b1\"] = parameters[\"b1\"] - learning_rate*grads[\"db1\"]\n",
    "    parameters[\"b2\"] = parameters[\"b2\"] - learning_rate*grads[\"db2\"]\n",
    "\n",
    "    return parameters"
   ]
  },
  {
   "cell_type": "code",
   "execution_count": 13,
   "metadata": {},
   "outputs": [],
   "source": [
    "def predict(test_x, test_y, parameters):\n",
    "    \"\"\"\n",
    "    Predict test data\n",
    "    test_x -- test data\n",
    "    test_y -- true \"label\" vector (for example: containing 0 if non-cat, 1 if cat), shape (1, number of examples)\n",
    "    \n",
    "    Returns:\n",
    "    accuracy -- accuracy of your model\n",
    "    \n",
    "    \"\"\"\n",
    "    \n",
    "    m = test_x.shape[1]\n",
    "    prediction = np.zeros((1,m))\n",
    "    n = len(parameters) // 2\n",
    "    \n",
    "    sigmo = linear_activation_forward(test_x,parameters)\n",
    "    \n",
    "    for i in range(0, sigmo.shape[1]):\n",
    "        if sigmo[0,i] > 0.5:\n",
    "            prediction[0,i] = 1\n",
    "        else:\n",
    "            prediction[0,i] = 0\n",
    "            \n",
    "    accuracy = np.sum((prediction == test_y)/m)\n",
    "    \n",
    "    \n",
    "    \n",
    "    return accuracy"
   ]
  },
  {
   "cell_type": "code",
   "execution_count": 14,
   "metadata": {},
   "outputs": [],
   "source": [
    "def plot_loss(costs):\n",
    "    \"\"\"\n",
    "    Plot loss\n",
    "    costs - cost of each iteration\n",
    "    \n",
    "    \"\"\" \n",
    "    plt.plot(np.squeeze(costs))\n",
    "    plt.ylabel(\"costs\")\n",
    "    plt.xlabel(\"costs of each iteration\")\n",
    "    plt.show()\n",
    "    \n",
    "\n",
    "    "
   ]
  },
  {
   "cell_type": "code",
   "execution_count": 15,
   "metadata": {},
   "outputs": [],
   "source": [
    "def two_layer_model(X, Y, layers_dims, learning_rate = 0.0075, num_iterations = 3000):\n",
    "    \"\"\"\n",
    "    Implements a two-layer neural network: LINEAR->RELU->LINEAR->SIGMOID.\n",
    "    \n",
    "    Arguments:\n",
    "    X -- input data, of shape (n_x, number of examples)\n",
    "    Y -- true \"label\" vector (containing 1 if cat, 0 if non-cat), of shape (1, number of examples)\n",
    "    layers_dims -- dimensions of the layers (n_x, n_h, n_y)\n",
    "    num_iterations -- number of iterations of the optimization loop\n",
    "    learning_rate -- learning rate of the gradient descent update rule\n",
    "    print_cost -- If set to True, this will print the cost every 100 iterations \n",
    "    \n",
    "    Returns:\n",
    "    parameters -- a dictionary containing W1, W2, b1, and b2\n",
    "    \"\"\"\n",
    "    \n",
    "    np.random.seed(1)\n",
    "    grads = {}\n",
    "    costs = []                              # to keep track of the cost\n",
    "    m = X.shape[1]                           # number of examples\n",
    "    (n_x, n_h, n_y) = layers_dims\n",
    "    \n",
    "    # Initialize parameters dictionary, by calling one of the functions you'd previously implemented\n",
    "    ### START CODE HERE ### (≈ 1 line of code)\n",
    "    parameters = initialize_parameters_deep(n_x,n_h,n_y)\n",
    "    ### END CODE HERE ###\n",
    "    \n",
    "    # Get W1, b1, W2 and b2 from the dictionary parameters.\n",
    "    W1 = parameters[\"W1\"]\n",
    "    b1 = parameters[\"b1\"]\n",
    "    W2 = parameters[\"W2\"]\n",
    "    b2 = parameters[\"b2\"]\n",
    "    \n",
    "    # Loop (gradient descent)\n",
    "\n",
    "    for i in range(0, num_iterations):\n",
    "\n",
    "        # Forward propagation: LINEAR -> RELU -> LINEAR -> SIGMOID. Inputs: \"X, W1, b1, W2, b2\". Output: \"A1, cache1, A2, cache2\".\n",
    "        ### START CODE HERE ### \n",
    "        AL = linear_activation_forward(X,parameters)\n",
    "        ### END CODE HERE ###\n",
    "        \n",
    "        # Compute cost\n",
    "        ### START CODE HERE ### \n",
    "        cost = compute_cost(AL, Y)\n",
    "        ### END CODE HERE ###\n",
    "        \n",
    "        \n",
    "        # Backward propagation.\n",
    "        ### START CODE HERE ### \n",
    "        grads = linear_activation_backward(X,cost,parameters)\n",
    "        ### END CODE HERE ###\n",
    "\n",
    "        \n",
    "        # Update parameters.\n",
    "        ### START CODE HERE ### \n",
    "        parameters = update_parameters(parameters, grads, learning_rate)\n",
    "        ### END CODE HERE ###\n",
    "        \n",
    "        # Print the cost every 100 training example\n",
    "        if i % 100 == 0:\n",
    "            print(\"Cost after iteration {}: {}\".format(i, np.squeeze(cost)))\n",
    "        if i % 100 == 0:\n",
    "            costs.append(cost)\n",
    "\n",
    "\n",
    "    return parameters, costs"
   ]
  },
  {
   "cell_type": "code",
   "execution_count": 16,
   "metadata": {},
   "outputs": [],
   "source": [
    "def main():\n",
    "    \"\"\"Main function\n",
    "    You need to combine all functions in the main function\"\"\"\n",
    "    parameters , costs = two_layer_model(train_x, train_y, layers_dims = (n_x, n_h, n_y),learning_rate = 0.00075, num_iterations = 2500)\n",
    "    plot_loss(costs)\n",
    "    accuracy_of_train = predict(train_x,train_y,parameters)\n",
    "    print(\"accuracy of train is:\", accuracy_of_train)\n",
    "    \n",
    "    \n",
    "\n",
    "    "
   ]
  },
  {
   "cell_type": "code",
   "execution_count": 17,
   "metadata": {},
   "outputs": [
    {
     "name": "stdout",
     "output_type": "stream",
     "text": [
      "Cost after iteration 0: 1.0171229412262568\n",
      "Cost after iteration 100: 0.9594078929410484\n",
      "Cost after iteration 200: 0.9386993446101615\n",
      "Cost after iteration 300: 0.9335214164102076\n",
      "Cost after iteration 400: 0.9340570057417131\n",
      "Cost after iteration 500: 0.934762446538063\n",
      "Cost after iteration 600: 0.9354646142213663\n",
      "Cost after iteration 700: 0.9361420513015795\n",
      "Cost after iteration 800: 0.9368024069172267\n",
      "Cost after iteration 900: 0.9374539893117708\n",
      "Cost after iteration 1000: 0.9381016860357566\n",
      "Cost after iteration 1100: 0.9387479310795883\n",
      "Cost after iteration 1200: 0.9393938889628805\n",
      "Cost after iteration 1300: 0.9400401244867893\n",
      "Cost after iteration 1400: 0.9406869199794465\n",
      "Cost after iteration 1500: 0.9413344206250044\n",
      "Cost after iteration 1600: 0.9419827026381807\n",
      "Cost after iteration 1700: 0.9426318065828523\n",
      "Cost after iteration 1800: 0.9432817542773009\n",
      "Cost after iteration 1900: 0.9439325576002123\n",
      "Cost after iteration 2000: 0.9445842231475412\n",
      "Cost after iteration 2100: 0.9452367547116332\n",
      "Cost after iteration 2200: 0.9458901546024467\n",
      "Cost after iteration 2300: 0.9465444243500647\n",
      "Cost after iteration 2400: 0.9471995650766225\n"
     ]
    },
    {
     "data": {
      "image/png": "[encoded data removed]",
      "text/plain": [
       "<Figure size 432x288 with 1 Axes>"
      ]
     },
     "metadata": {
      "needs_background": "light"
     },
     "output_type": "display_data"
    },
    {
     "name": "stdout",
     "output_type": "stream",
     "text": [
      "accuracy of train is: 0.6555023923444976\n"
     ]
    }
   ],
   "source": [
    "main()"
   ]
  },
  {
   "cell_type": "code",
   "execution_count": null,
   "metadata": {},
   "outputs": [],
   "source": [
    "\n"
   ]
  },
  {
   "cell_type": "code",
   "execution_count": null,
   "metadata": {},
   "outputs": [],
   "source": []
  },
  {
   "cell_type": "code",
   "execution_count": null,
   "metadata": {},
   "outputs": [],
   "source": []
  }
 ],
 "metadata": {
  "kernelspec": {
   "display_name": "Python 3",
   "language": "python",
   "name": "python3"
  },
  "language_info": {
   "codemirror_mode": {
    "name": "ipython",
    "version": 3
   },
   "file_extension": ".py",
   "mimetype": "text/x-python",
   "name": "python",
   "nbconvert_exporter": "python",
   "pygments_lexer": "ipython3",
   "version": "3.7.4"
  }
 },
 "nbformat": 4,
 "nbformat_minor": 2
}
